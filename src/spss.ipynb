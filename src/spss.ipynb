{
 "cells": [
  {
   "cell_type": "code",
   "execution_count": 2,
   "metadata": {},
   "outputs": [],
   "source": [
    "import os\n",
    "def get_data_file_path(dir, filename):\n",
    "    # Get the path to the data directory\n",
    "    current_dir = os.path.dirname(os.path.abspath(''))\n",
    "    data_dir = os.path.join(current_dir, 'src')\n",
    "    data_dir = os.path.join(data_dir, dir)\n",
    "    # Return the path to the data.json file\n",
    "    return os.path.join(data_dir, filename)"
   ]
  },
  {
   "cell_type": "code",
   "execution_count": 3,
   "metadata": {},
   "outputs": [
    {
     "ename": "TypeError",
     "evalue": "join() argument must be str, bytes, or os.PathLike object, not 'NoneType'",
     "output_type": "error",
     "traceback": [
      "\u001b[1;31m---------------------------------------------------------------------------\u001b[0m",
      "\u001b[1;31mTypeError\u001b[0m                                 Traceback (most recent call last)",
      "Cell \u001b[1;32mIn[3], line 7\u001b[0m\n\u001b[0;32m      4\u001b[0m folderPath \u001b[38;5;241m=\u001b[39m os\u001b[38;5;241m.\u001b[39menviron\u001b[38;5;241m.\u001b[39mget(\u001b[38;5;124m\"\u001b[39m\u001b[38;5;124mFILE_FOLDER\u001b[39m\u001b[38;5;124m\"\u001b[39m)\n\u001b[0;32m      5\u001b[0m fileName \u001b[38;5;241m=\u001b[39m os\u001b[38;5;241m.\u001b[39menviron\u001b[38;5;241m.\u001b[39mget(\u001b[38;5;124m\"\u001b[39m\u001b[38;5;124mDATA_CHANNELS\u001b[39m\u001b[38;5;124m\"\u001b[39m)\n\u001b[1;32m----> 7\u001b[0m csv_file \u001b[38;5;241m=\u001b[39m \u001b[43mget_data_file_path\u001b[49m\u001b[43m(\u001b[49m\u001b[43mfolderPath\u001b[49m\u001b[43m,\u001b[49m\u001b[43m \u001b[49m\u001b[43mfileName\u001b[49m\u001b[43m)\u001b[49m\n\u001b[0;32m      8\u001b[0m df \u001b[38;5;241m=\u001b[39m pd\u001b[38;5;241m.\u001b[39mread_csv(csv_file, header\u001b[38;5;241m=\u001b[39m\u001b[38;5;241m0\u001b[39m, names\u001b[38;5;241m=\u001b[39m[\u001b[38;5;124m\"\u001b[39m\u001b[38;5;124mRespondent\u001b[39m\u001b[38;5;124m\"\u001b[39m, \u001b[38;5;124m\"\u001b[39m\u001b[38;5;124mCategories\u001b[39m\u001b[38;5;124m\"\u001b[39m])\n\u001b[0;32m     10\u001b[0m \u001b[38;5;124;03m\"\"\"Tách Categories \"\"\"\u001b[39;00m\n",
      "Cell \u001b[1;32mIn[2], line 6\u001b[0m, in \u001b[0;36mget_data_file_path\u001b[1;34m(dir, filename)\u001b[0m\n\u001b[0;32m      4\u001b[0m current_dir \u001b[38;5;241m=\u001b[39m os\u001b[38;5;241m.\u001b[39mpath\u001b[38;5;241m.\u001b[39mdirname(os\u001b[38;5;241m.\u001b[39mpath\u001b[38;5;241m.\u001b[39mabspath(\u001b[38;5;124m'\u001b[39m\u001b[38;5;124m'\u001b[39m))\n\u001b[0;32m      5\u001b[0m data_dir \u001b[38;5;241m=\u001b[39m os\u001b[38;5;241m.\u001b[39mpath\u001b[38;5;241m.\u001b[39mjoin(current_dir, \u001b[38;5;124m'\u001b[39m\u001b[38;5;124msrc\u001b[39m\u001b[38;5;124m'\u001b[39m)\n\u001b[1;32m----> 6\u001b[0m data_dir \u001b[38;5;241m=\u001b[39m \u001b[43mos\u001b[49m\u001b[38;5;241;43m.\u001b[39;49m\u001b[43mpath\u001b[49m\u001b[38;5;241;43m.\u001b[39;49m\u001b[43mjoin\u001b[49m\u001b[43m(\u001b[49m\u001b[43mdata_dir\u001b[49m\u001b[43m,\u001b[49m\u001b[43m \u001b[49m\u001b[38;5;28;43mdir\u001b[39;49m\u001b[43m)\u001b[49m\n\u001b[0;32m      7\u001b[0m \u001b[38;5;66;03m# Return the path to the data.json file\u001b[39;00m\n\u001b[0;32m      8\u001b[0m \u001b[38;5;28;01mreturn\u001b[39;00m os\u001b[38;5;241m.\u001b[39mpath\u001b[38;5;241m.\u001b[39mjoin(data_dir, filename)\n",
      "File \u001b[1;32m<frozen ntpath>:149\u001b[0m, in \u001b[0;36mjoin\u001b[1;34m(path, *paths)\u001b[0m\n",
      "File \u001b[1;32m<frozen genericpath>:164\u001b[0m, in \u001b[0;36m_check_arg_types\u001b[1;34m(funcname, *args)\u001b[0m\n",
      "\u001b[1;31mTypeError\u001b[0m: join() argument must be str, bytes, or os.PathLike object, not 'NoneType'"
     ]
    }
   ],
   "source": [
    "import pandas as pd\n",
    "from dotenv import load_dotenv\n",
    "\n",
    "config = load_dotenv()\n",
    "CHANNEL_FIELDS = [\"Respondent\", \"Grocery\", \"Convenience Stores\", \"Hypermarkets\", \"Supermarkets\", \"E-commerce Platforms\", \"Official Website\"]\n",
    "folderPath = os.environ.get(\"FILE_FOLDER\")\n",
    "fileName = os.environ.get(\"DATA_CHANNELS\")\n",
    "\n",
    "csv_file = get_data_file_path(folderPath, fileName)\n",
    "df = pd.read_csv(csv_file, header=0, names=[\"Respondent\", \"Categories\"])\n",
    "\n",
    "\"\"\"Tách Categories \"\"\"\n",
    "categories_split = df[\"Categories\"].str.split(\", \", expand=True)\n",
    "\n",
    "\"\"\"Tạo dict để map mỗi header_name thành 1 index\"\"\"\n",
    "category_map = {category: header for category, header in zip(categories_split.columns, CHANNEL_FIELDS[1:])}\n",
    "\n",
    "\"\"\"Đổi tên cols\"\"\"\n",
    "categories_split.rename(columns=category_map, inplace=True)\n",
    "\n",
    "\"\"\"If the value is display, It will turn 1 else set 0\"\"\"\n",
    "categories_split = categories_split.fillna(0).applymap(lambda x: 1 if x else 0)\n",
    "\n",
    "\"\"\"Concat Respondent with the categories_split\"\"\"\n",
    "\n",
    "result = pd.concat([df[\"Respondent\"], categories_split], axis=1)\n",
    "print(result)\n",
    "\"\"\"\n",
    "    Export to excel file/ or can be csv file using\n",
    "    result.to_csv(output_file, index=False)\n",
    "\"\"\"\n",
    "output_file = get_data_file_path(folderPath, 'spss_channels.xlsx')\n",
    "result.to_excel(output_file, index=False)"
   ]
  },
  {
   "cell_type": "code",
   "execution_count": 1,
   "metadata": {},
   "outputs": [
    {
     "ename": "NameError",
     "evalue": "name 'os' is not defined",
     "output_type": "error",
     "traceback": [
      "\u001b[1;31m---------------------------------------------------------------------------\u001b[0m",
      "\u001b[1;31mNameError\u001b[0m                                 Traceback (most recent call last)",
      "Cell \u001b[1;32mIn[1], line 4\u001b[0m\n\u001b[0;32m      1\u001b[0m \u001b[38;5;28;01mimport\u001b[39;00m \u001b[38;5;21;01mpandas\u001b[39;00m \u001b[38;5;28;01mas\u001b[39;00m \u001b[38;5;21;01mpd\u001b[39;00m\n\u001b[0;32m      3\u001b[0m ONLINEPLATFORMS_FIELDS \u001b[38;5;241m=\u001b[39m [\u001b[38;5;124m\"\u001b[39m\u001b[38;5;124mRespondent\u001b[39m\u001b[38;5;124m\"\u001b[39m, \u001b[38;5;124m\"\u001b[39m\u001b[38;5;124mShopee\u001b[39m\u001b[38;5;124m\"\u001b[39m, \u001b[38;5;124m\"\u001b[39m\u001b[38;5;124mLazada\u001b[39m\u001b[38;5;124m\"\u001b[39m, \u001b[38;5;124m\"\u001b[39m\u001b[38;5;124mTiki\u001b[39m\u001b[38;5;124m\"\u001b[39m, \u001b[38;5;124m\"\u001b[39m\u001b[38;5;124mFacebook\u001b[39m\u001b[38;5;124m\"\u001b[39m, \u001b[38;5;124m\"\u001b[39m\u001b[38;5;124mInstagram\u001b[39m\u001b[38;5;124m\"\u001b[39m, \u001b[38;5;124m\"\u001b[39m\u001b[38;5;124mTikTok Shop\u001b[39m\u001b[38;5;124m\"\u001b[39m]\n\u001b[1;32m----> 4\u001b[0m folderPath \u001b[38;5;241m=\u001b[39m \u001b[43mos\u001b[49m\u001b[38;5;241m.\u001b[39menviron\u001b[38;5;241m.\u001b[39mget(\u001b[38;5;124m\"\u001b[39m\u001b[38;5;124mFILE_FOLDER\u001b[39m\u001b[38;5;124m\"\u001b[39m)\n\u001b[0;32m      5\u001b[0m fileName \u001b[38;5;241m=\u001b[39m os\u001b[38;5;241m.\u001b[39menviron\u001b[38;5;241m.\u001b[39mget(\u001b[38;5;124m\"\u001b[39m\u001b[38;5;124mDATA_ONLINEPLATFORMS\u001b[39m\u001b[38;5;124m\"\u001b[39m)\n\u001b[0;32m      7\u001b[0m csv_file \u001b[38;5;241m=\u001b[39m get_data_file_path(folderPath, fileName)\n",
      "\u001b[1;31mNameError\u001b[0m: name 'os' is not defined"
     ]
    }
   ],
   "source": [
    "import pandas as pd\n",
    "from dotenv import load_dotenv\n",
    "\n",
    "config = load_dotenv()\n",
    "\n",
    "ONLINEPLATFORMS_FIELDS = [\"Respondent\", \"Shopee\", \"Lazada\", \"Tiki\", \"Facebook\", \"Instagram\", \"TikTok Shop\"]\n",
    "folderPath = os.environ.get(\"FILE_FOLDER\")\n",
    "fileName = os.environ.get(\"DATA_ONLINEPLATFORMS\")\n",
    "\n",
    "csv_file = get_data_file_path(folderPath, fileName)\n",
    "df = pd.read_csv(csv_file, header=0, names=[\"Respondent\", \"Categories\"])\n",
    "\n",
    "\"\"\"Tách Categories \"\"\"\n",
    "categories_split = df[\"Categories\"].str.split(\", \", expand=True)\n",
    "\n",
    "\"\"\"Tạo dict để map mỗi header_name thành 1 index\"\"\"\n",
    "category_map = {category: header for category, header in zip(categories_split.columns, ONLINEPLATFORMS_FIELDS[1:])}\n",
    "\n",
    "\"\"\"Đổi tên cols\"\"\"\n",
    "categories_split.rename(columns=category_map, inplace=True)\n",
    "\n",
    "\"\"\"If the value is display, It will turn 1 else set 0\"\"\"\n",
    "categories_split = categories_split.fillna(0).applymap(lambda x: 1 if x else 0)\n",
    "\n",
    "\"\"\"Concat Respondent with the categories_split\"\"\"\n",
    "\n",
    "result = pd.concat([df[\"Respondent\"], categories_split], axis=1)\n",
    "print(result)\n",
    "\"\"\"\n",
    "    Export to excel file/ or can be csv file using\n",
    "    result.to_csv(output_file, index=False)\n",
    "\"\"\"\n",
    "output_file = get_data_file_path(folderPath, 'spss_onlineplatforms.xlsx')\n",
    "result.to_excel(output_file, index=False)"
   ]
  },
  {
   "cell_type": "code",
   "execution_count": null,
   "metadata": {},
   "outputs": [],
   "source": [
    "import pandas as pd\n",
    "from dotenv import load_dotenv\n",
    "\n",
    "config = load_dotenv()\n",
    "\n",
    "BUYFOR_FIELDS = [\"Respondent\", \"Myself\", \"Relatives\", \"Friends\", \"Co-workers\"]\n",
    "folderPath = os.environ.get(\"FILE_FOLDER\")\n",
    "fileName = os.environ.get(\"DATA_BUYFOR\")\n",
    "\n",
    "csv_file = get_data_file_path(folderPath, fileName)\n",
    "df = pd.read_csv(csv_file, header=0, names=[\"Respondent\", \"Categories\"])\n",
    "\n",
    "\"\"\"Tách Categories \"\"\"\n",
    "categories_split = df[\"Categories\"].str.split(\", \", expand=True)\n",
    "\n",
    "\"\"\"Tạo dict để map mỗi header_name thành 1 index\"\"\"\n",
    "category_map = {category: header for category, header in zip(categories_split.columns, BUYFOR_FIELDS[1:])}\n",
    "\n",
    "\"\"\"Đổi tên cols\"\"\"\n",
    "categories_split.rename(columns=category_map, inplace=True)\n",
    "\n",
    "\"\"\"If the value is display, It will turn 1 else set 0\"\"\"\n",
    "categories_split = categories_split.fillna(0).applymap(lambda x: 1 if x else 0)\n",
    "\n",
    "\"\"\"Concat Respondent with the categories_split\"\"\"\n",
    "\n",
    "result = pd.concat([df[\"Respondent\"], categories_split], axis=1)\n",
    "print(result)\n",
    "\"\"\"\n",
    "    Export to excel file/ or can be csv file using\n",
    "    result.to_csv(output_file, index=False)\n",
    "\"\"\"\n",
    "output_file = get_data_file_path(folderPath, 'spss_buyfor.xlsx')\n",
    "result.to_excel(output_file, index=False)"
   ]
  }
 ],
 "metadata": {
  "kernelspec": {
   "display_name": "venv",
   "language": "python",
   "name": "python3"
  },
  "language_info": {
   "codemirror_mode": {
    "name": "ipython",
    "version": 3
   },
   "file_extension": ".py",
   "mimetype": "text/x-python",
   "name": "python",
   "nbconvert_exporter": "python",
   "pygments_lexer": "ipython3",
   "version": "3.12.2"
  }
 },
 "nbformat": 4,
 "nbformat_minor": 2
}
