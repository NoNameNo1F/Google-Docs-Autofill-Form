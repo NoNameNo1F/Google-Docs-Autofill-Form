{
 "cells": [
  {
   "cell_type": "code",
   "execution_count": 2,
   "metadata": {},
   "outputs": [],
   "source": [
    "import os\n",
    "def get_data_file_path(dir, filename):\n",
    "    # Get the path to the data directory\n",
    "    current_dir = os.path.dirname(os.path.abspath(''))\n",
    "    data_dir = os.path.join(current_dir, 'src')\n",
    "    data_dir = os.path.join(data_dir, dir)\n",
    "    # Return the path to the data.json file\n",
    "    return os.path.join(data_dir, filename)"
   ]
  },
  {
   "cell_type": "code",
   "execution_count": 6,
   "metadata": {},
   "outputs": [
    {
     "name": "stdout",
     "output_type": "stream",
     "text": [
      "     Respondent  Grocery  Convenience Stores  Hypermarkets  Supermarkets  \\\n",
      "0             1        1                   1             1             1   \n",
      "1             2        1                   1             0             0   \n",
      "2             3        1                   1             1             1   \n",
      "3             4        1                   1             0             0   \n",
      "4             5        1                   1             0             0   \n",
      "..          ...      ...                 ...           ...           ...   \n",
      "295         296        1                   1             1             1   \n",
      "296         297        1                   1             1             1   \n",
      "297         298        1                   1             1             1   \n",
      "298         299        1                   1             1             1   \n",
      "299         300        1                   1             1             1   \n",
      "\n",
      "     E-commerce Platforms  Official Website  \n",
      "0                       0                 0  \n",
      "1                       0                 0  \n",
      "2                       1                 1  \n",
      "3                       0                 0  \n",
      "4                       0                 0  \n",
      "..                    ...               ...  \n",
      "295                     0                 0  \n",
      "296                     1                 0  \n",
      "297                     1                 0  \n",
      "298                     1                 0  \n",
      "299                     1                 0  \n",
      "\n",
      "[300 rows x 7 columns]\n"
     ]
    },
    {
     "name": "stderr",
     "output_type": "stream",
     "text": [
      "C:\\Users\\NamVu\\AppData\\Local\\Temp\\ipykernel_13004\\2320748995.py:18: FutureWarning: DataFrame.applymap has been deprecated. Use DataFrame.map instead.\n",
      "  categories_split = categories_split.fillna(0).applymap(lambda x: 1 if x else 0)\n"
     ]
    }
   ],
   "source": [
    "import pandas as pd\n",
    "\n",
    "HEADER_FIELD = [\"Respondent\", \"Grocery\", \"Convenience Stores\", \"Hypermarkets\", \"Supermarkets\", \"E-commerce Platforms\", \"Official Website\"]\n",
    "\n",
    "csv_file = get_data_file_path('file', 'test_en2.csv')\n",
    "df = pd.read_csv(csv_file, header=0, names=[\"Respondent\", \"Categories\"])\n",
    "\n",
    "\"\"\"Tách Categories \"\"\"\n",
    "categories_split = df[\"Categories\"].str.split(\", \", expand=True)\n",
    "\n",
    "\"\"\"Tạo dict để map mỗi header_name thành 1 index\"\"\"\n",
    "category_map = {category: header for category, header in zip(categories_split.columns, HEADER_FIELD[1:])}\n",
    "\n",
    "\"\"\"Đổi tên cols\"\"\"\n",
    "categories_split.rename(columns=category_map, inplace=True)\n",
    "\n",
    "\"\"\"If the value is display, It will turn 1 else set 0\"\"\"\n",
    "categories_split = categories_split.fillna(0).applymap(lambda x: 1 if x else 0)\n",
    "\n",
    "\"\"\"Concat Respondent with the categories_split\"\"\"\n",
    "\n",
    "result = pd.concat([df[\"Respondent\"], categories_split], axis=1)\n",
    "print(result)\n",
    "\"\"\"\n",
    "    Export to excel file/ or can be csv file using\n",
    "    result.to_csv(output_file, index=False)\n",
    "\"\"\"\n",
    "output_file = get_data_file_path('file', 'spss.xlsx')\n",
    "result.to_excel(output_file, index=False)"
   ]
  }
 ],
 "metadata": {
  "kernelspec": {
   "display_name": "venv",
   "language": "python",
   "name": "python3"
  },
  "language_info": {
   "codemirror_mode": {
    "name": "ipython",
    "version": 3
   },
   "file_extension": ".py",
   "mimetype": "text/x-python",
   "name": "python",
   "nbconvert_exporter": "python",
   "pygments_lexer": "ipython3",
   "version": "3.12.2"
  }
 },
 "nbformat": 4,
 "nbformat_minor": 2
}
